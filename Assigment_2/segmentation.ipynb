{
 "cells": [
  {
   "cell_type": "markdown",
   "metadata": {},
   "source": [
    "Imports"
   ]
  },
  {
   "cell_type": "code",
   "execution_count": 2,
   "metadata": {},
   "outputs": [],
   "source": [
    "from torch.utils.data import Dataset\n",
    "from os import listdir\n",
    "from os.path import isfile, join\n",
    "from matplotlib import pyplot as plt\n",
    "from shapely.geometry import Point\n",
    "from shapely.geometry.polygon import Polygon\n",
    "\n",
    "import cv2\n",
    "import json\n",
    "import numpy as np\n",
    "from tqdm import tqdm\n"
   ]
  },
  {
   "cell_type": "markdown",
   "metadata": {},
   "source": [
    "Custom dataset"
   ]
  },
  {
   "cell_type": "code",
   "execution_count": 4,
   "metadata": {},
   "outputs": [],
   "source": [
    "class SegmentationDataset(Dataset):\n",
    "\tdef __init__(self, imagePath, maskPath, transforms=None):\n",
    "\t\t# store the image and mask filepaths, and augmentation\n",
    "\t\t# transforms\n",
    "\t\tself.imageFiles = [f for f in listdir(imagePath) if isfile(join(imagePath, f))]\n",
    "\t\tself.imagePath = imagePath\n",
    "\t\tf = open(maskPath)\n",
    "\t\tself.maskJSON = json.load(f)\n",
    "\t\tself.transforms = transforms\n",
    "\tdef __len__(self):\n",
    "\t\t# return the number of total samples contained in the dataset\n",
    "\t\treturn len(self.imageFiles)\n",
    "\tdef __getitem__(self, idx):\t\t\t\t#IMPLEMENT\n",
    "\t\t# grab the image path from the current index\n",
    "\t\timagePath = join(self.imagePath,self.imageFiles[idx])\n",
    "\t\t# load the image from disk, swap its channels from BGR to RGB,\n",
    "\t\t# and read the associated mask from disk in grayscale mode\n",
    "\t\timage = cv2.imread(imagePath)\n",
    "\t\timage = cv2.cvtColor(image, cv2.COLOR_BGR2RGB)\n",
    "\t\t#Creating the mask\n",
    "\t\tpoints = []\n",
    "\t\tfor point in self.maskJSON[self.imageFiles[idx]]['bounds_x_y']:\n",
    "\t\t\tpoints.append((point['x'],point['y']))\n",
    "\t\tpolygon = Polygon(points)\n",
    "\t\tmask = np.zeros((512,512))\n",
    "\t\tfor y in range(512):\n",
    "\t\t\tfor x in range(512):\n",
    "\t\t\t\tif polygon.contains(Point(x,y)):\n",
    "\t\t\t\t\tmask[x,y]=1\n",
    "\t\treturn (image, mask, self.imageFiles[idx])"
   ]
  },
  {
   "cell_type": "code",
   "execution_count": 4,
   "metadata": {},
   "outputs": [],
   "source": [
    "def displayImageAndMask(image,mask):\n",
    "    fig = plt.figure(figsize=(10, 7))\n",
    "    fig.add_subplot(1,2,1)\n",
    "    plt.imshow(mask,interpolation='nearest')\n",
    "    plt.show()\n",
    "    fig.add_subplot(1,2,2)\n",
    "    plt.imshow(mask,interpolation='nearest')\n",
    "    plt.show()\n",
    "\n",
    "def saveMask(mask,fileName):\n",
    "    fileOut = 'masks/'+fileName[:-4]+'.out'\n",
    "    with open(fileOut, \"wb\") as f:\n",
    "        np.savetxt(f, mask.astype(int), fmt='%i', delimiter=\",\")"
   ]
  },
  {
   "cell_type": "code",
   "execution_count": 3,
   "metadata": {},
   "outputs": [
    {
     "ename": "NameError",
     "evalue": "name 'SegmentationDataset' is not defined",
     "output_type": "error",
     "traceback": [
      "\u001b[1;31m---------------------------------------------------------------------------\u001b[0m",
      "\u001b[1;31mNameError\u001b[0m                                 Traceback (most recent call last)",
      "\u001b[1;32m~\\AppData\\Local\\Temp/ipykernel_4944/2445003731.py\u001b[0m in \u001b[0;36m<module>\u001b[1;34m\u001b[0m\n\u001b[0;32m      1\u001b[0m \u001b[1;32mfrom\u001b[0m \u001b[0mtqdm\u001b[0m \u001b[1;32mimport\u001b[0m \u001b[0mtqdm\u001b[0m\u001b[1;33m\u001b[0m\u001b[1;33m\u001b[0m\u001b[0m\n\u001b[0;32m      2\u001b[0m \u001b[1;33m\u001b[0m\u001b[0m\n\u001b[1;32m----> 3\u001b[1;33m \u001b[0mdata\u001b[0m \u001b[1;33m=\u001b[0m \u001b[0mSegmentationDataset\u001b[0m\u001b[1;33m(\u001b[0m\u001b[1;34m'images'\u001b[0m\u001b[1;33m,\u001b[0m\u001b[1;34m'metadata.json'\u001b[0m\u001b[1;33m)\u001b[0m\u001b[1;33m\u001b[0m\u001b[1;33m\u001b[0m\u001b[0m\n\u001b[0m\u001b[0;32m      4\u001b[0m \u001b[1;32mfor\u001b[0m \u001b[0mi\u001b[0m \u001b[1;32min\u001b[0m \u001b[0mtqdm\u001b[0m\u001b[1;33m(\u001b[0m\u001b[0mrange\u001b[0m\u001b[1;33m(\u001b[0m\u001b[0mlen\u001b[0m\u001b[1;33m(\u001b[0m\u001b[0mdata\u001b[0m\u001b[1;33m)\u001b[0m\u001b[1;33m)\u001b[0m\u001b[1;33m)\u001b[0m\u001b[1;33m:\u001b[0m\u001b[1;33m\u001b[0m\u001b[1;33m\u001b[0m\u001b[0m\n\u001b[0;32m      5\u001b[0m     \u001b[0m_\u001b[0m\u001b[1;33m,\u001b[0m\u001b[0mmask\u001b[0m\u001b[1;33m,\u001b[0m\u001b[0mfileName\u001b[0m \u001b[1;33m=\u001b[0m \u001b[0mdata\u001b[0m\u001b[1;33m[\u001b[0m\u001b[0mi\u001b[0m\u001b[1;33m]\u001b[0m\u001b[1;33m\u001b[0m\u001b[1;33m\u001b[0m\u001b[0m\n",
      "\u001b[1;31mNameError\u001b[0m: name 'SegmentationDataset' is not defined"
     ]
    }
   ],
   "source": [
    "from tqdm import tqdm\n",
    "\n",
    "data = SegmentationDataset('images','metadata.json')\n",
    "for i in tqdm(range(len(data))):\n",
    "    _,mask,fileName = data[i]\n",
    "    saveMask(mask,fileName)\n",
    "\n"
   ]
  },
  {
   "cell_type": "code",
   "execution_count": 9,
   "metadata": {},
   "outputs": [
    {
     "name": "stdout",
     "output_type": "stream",
     "text": [
      "5\n",
      "[{'lat': 43.7491912, 'lon': -1.3265787}, {'lat': 43.7491306, 'lon': -1.3265054}, {'lat': 43.7491659, 'lon': -1.326452}, {'lat': 43.7492215, 'lon': -1.3265289}, {'lat': 43.7491912, 'lon': -1.3265787}]\n"
     ]
    }
   ],
   "source": [
    "fJSON = open('metadata.json')\n",
    "maskJSON = json.load(fJSON)\n",
    "fileNames = list(maskJSON.keys())\n",
    "\n",
    "print(len(maskJSON[list(maskJSON.keys())[243]]['bounds_lat_lon']))\n",
    "print(maskJSON[list(maskJSON.keys())[243]]['bounds_lat_lon'])\n",
    "\n",
    "imageFiles = [f for f in listdir('images') if isfile(join('images', f))]\n",
    "\n",
    "\n",
    "# c=0\n",
    "# for i in tqdm(range(len(fileNames))):\n",
    "#     if fileNames[i] in imageFiles:\n",
    "#         c += 1\n",
    "\n",
    "# print(c,'/',len(fileNames))\n",
    "\n"
   ]
  },
  {
   "cell_type": "code",
   "execution_count": 36,
   "metadata": {},
   "outputs": [
    {
     "name": "stderr",
     "output_type": "stream",
     "text": [
      "  1%|          | 77/14964 [01:11<16:30:26,  3.99s/it]Exception ignored in: <function BaseGeometry.__del__ at 0x000001BD8C401E50>\n",
      "Traceback (most recent call last):\n",
      "  File \"C:\\Users\\weeck\\AppData\\Local\\Programs\\Python\\Python39\\lib\\site-packages\\shapely\\geometry\\base.py\", line 209, in __del__\n",
      "    self._empty(val=None)\n",
      "  File \"C:\\Users\\weeck\\AppData\\Local\\Programs\\Python\\Python39\\lib\\site-packages\\shapely\\geometry\\base.py\", line 194, in _empty\n",
      "    self._lgeos.GEOSGeom_destroy(self.__geom__)\n",
      "KeyboardInterrupt: \n",
      "  1%|          | 80/14964 [01:25<18:26:51,  4.46s/it]"
     ]
    }
   ],
   "source": [
    "fJSON = open('metadata.json')\n",
    "maskJSON = json.load(fJSON)\n",
    "fileNames = list(maskJSON.keys())\n",
    "imageFiles = [f for f in listdir('images') if isfile(join('images', f))]\n",
    "\n",
    "createdFiles = [f for f in listdir('masks') if isfile(join('masks', f))]\n",
    "\n",
    "for i in tqdm(range(len(fileNames))):\n",
    "    fileOut = fileNames[i][:-4]+'.out'\n",
    "    if (fileOut not in createdFiles) and (fileNames[i] in imageFiles):\n",
    "        points = []\n",
    "        for point in maskJSON[fileNames[i]]['bounds_x_y']:\n",
    "            points.append((point['x'],point['y']))\n",
    "        polygon = Polygon(points)\n",
    "        mask = np.zeros((512,512))\n",
    "        for y in range(512):\n",
    "            for x in range(512):\n",
    "                if polygon.contains(Point(x,y)):\n",
    "                    mask[y,x]=1\n",
    "        saveMask(mask,fileNames[i])"
   ]
  },
  {
   "cell_type": "code",
   "execution_count": 15,
   "metadata": {},
   "outputs": [],
   "source": [
    "i = 400\n",
    "createdFiles = []\n",
    "fileOut = fileNames[i][:-4]+'.out'\n",
    "if fileOut not in createdFiles:\n",
    "    points = []\n",
    "    for point in maskJSON[fileNames[i]]['bounds_x_y']:\n",
    "        points.append((point['x'],point['y']))\n",
    "    polygon = Polygon(points)\n",
    "    mask = np.zeros((512,512))\n",
    "    for y in range(512):\n",
    "        for x in range(512):\n",
    "            if polygon.contains(Point(x,y)):\n",
    "                mask[y,x]=1\n",
    "    saveMask(mask,fileNames[i])"
   ]
  }
 ],
 "metadata": {
  "interpreter": {
   "hash": "c42c9afc7115068616639500cf38b9c26f837688094227829abdc005159f726e"
  },
  "kernelspec": {
   "display_name": "Python 3.9.6 64-bit",
   "language": "python",
   "name": "python3"
  },
  "language_info": {
   "codemirror_mode": {
    "name": "ipython",
    "version": 3
   },
   "file_extension": ".py",
   "mimetype": "text/x-python",
   "name": "python",
   "nbconvert_exporter": "python",
   "pygments_lexer": "ipython3",
   "version": "3.9.6"
  },
  "orig_nbformat": 4
 },
 "nbformat": 4,
 "nbformat_minor": 2
}
